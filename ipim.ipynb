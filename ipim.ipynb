{
 "cells": [
  {
   "cell_type": "markdown",
   "metadata": {},
   "source": [
    "# Extracción de los datos\n",
    "\n",
    "Luego de descargar de la página del [INDEC](https://www.indec.gob.ar/indec/web/Nivel4-Tema-3-5-32) los archivos con los valores del Índice de Precios Internos al por Mayor (IPIM), correspondientes a los períodos 1996-2015 y 2016-2024, procedemos a armar un .csv con los valores correspondientes al período 2012-2019.\n",
    "\n",
    "Estos datos fueron descargados el 17/10/2024, utilizando el script `utils/descarga-ipim.py`."
   ]
  },
  {
   "cell_type": "markdown",
   "metadata": {},
   "source": [
    "## 2012 - 2015"
   ]
  },
  {
   "cell_type": "markdown",
   "metadata": {},
   "source": [
    "Como el archivo con los datos correspondientes al período 2012-2015 están disponibles en un archivo de Excel, nos pareció más sencillo directamente extrar los valores del ipim_general \"a mano\" utilizando LibreOffice. \n",
    "El archivo resultante se encuentra en `data/ipim/ipim_2012_2015_base_1993.csv`."
   ]
  },
  {
   "cell_type": "markdown",
   "metadata": {},
   "source": [
    "### Interpolación de datos faltantes"
   ]
  },
  {
   "cell_type": "markdown",
   "metadata": {},
   "source": [
    "Como no se encontraron los valores de este índice para los meses de noviembre y diciembre de 2015, procedimos a estimarlos a través de la interpolación."
   ]
  },
  {
   "cell_type": "code",
   "execution_count": 118,
   "metadata": {},
   "outputs": [
    {
     "name": "stdout",
     "output_type": "stream",
     "text": [
      "      periodo  indice_ipim\n",
      "43 2015-08-01      909.850\n",
      "44 2015-09-01      922.140\n",
      "45 2015-10-01      930.690\n",
      "46 2015-11-01      939.525\n",
      "47 2015-12-01      948.075\n"
     ]
    }
   ],
   "source": [
    "import pandas as pd\n",
    "from scipy.interpolate import interp1d\n",
    "import numpy as np\n",
    "\n",
    "file_path = \"data/ipim/ipim_2012_2015_base_1993.csv\"\n",
    "ipim_base_1993_oct_2015 = pd.read_csv(file_path, on_bad_lines='warn')\n",
    "\n",
    "ipim_base_1993_oct_2015['periodo'] = pd.to_datetime(\n",
    "    ipim_base_1993_oct_2015['periodo'])\n",
    "\n",
    "# Agregar los meses de noviembre y diciembre de 2015\n",
    "nov_dec_2015 = pd.DataFrame({\n",
    "    'periodo': [pd.to_datetime('2015-11-01'), pd.to_datetime('2015-12-01')]\n",
    "})\n",
    "ipim_base_1993_dec_2015 = pd.concat(\n",
    "    [ipim_base_1993_oct_2015, nov_dec_2015], ignore_index=True)\n",
    "\n",
    "# Extraer los datos válidos para la interpolación\n",
    "valid_data = ipim_base_1993_dec_2015.dropna(subset=['indice_ipim'])\n",
    "\n",
    "# Crear la función de interpolación\n",
    "interp_func = interp1d(\n",
    "    valid_data['periodo'].astype(np.int64),\n",
    "    valid_data['indice_ipim'],\n",
    "    kind='linear',\n",
    "    fill_value='extrapolate'\n",
    ")\n",
    "\n",
    "# Interpolar los datos faltantes\n",
    "ipim_base_1993_dec_2015['indice_ipim'] = ipim_base_1993_dec_2015['indice_ipim'].combine_first(\n",
    "    pd.Series(\n",
    "        interp_func(ipim_base_1993_dec_2015['periodo'].astype(np.int64)),\n",
    "        index=ipim_base_1993_dec_2015.index\n",
    "    )\n",
    ")\n",
    "\n",
    "print(ipim_base_1993_dec_2015.tail())"
   ]
  },
  {
   "cell_type": "markdown",
   "metadata": {},
   "source": [
    "### Cambio de base"
   ]
  },
  {
   "cell_type": "markdown",
   "metadata": {},
   "source": [
    "Para simplificar la interpretación y la comparacion de los datos procedemos a tomar el valor de enero de 2012 como referencia.\n",
    "\n",
    "$$ \\text{Dato de IPIM base 2012} = \\frac{\\text{Dato de IPIM base 1993}}{\\text{IPIM de ene 2012 base 1993}} * 100 $$"
   ]
  },
  {
   "cell_type": "code",
   "execution_count": 131,
   "metadata": {},
   "outputs": [
    {
     "name": "stdout",
     "output_type": "stream",
     "text": [
      "Head:\n",
      "     periodo  indice_ipim\n",
      "0 2012-01-01   100.000000\n",
      "1 2012-02-01   100.987732\n",
      "2 2012-03-01   102.181241\n",
      "3 2012-04-01   103.337514\n",
      "4 2012-05-01   104.391879\n",
      "\n",
      "Tail:\n",
      "      periodo  indice_ipim\n",
      "43 2015-08-01   178.311057\n",
      "44 2015-09-01   180.719633\n",
      "45 2015-10-01   182.395249\n",
      "46 2015-11-01   184.126720\n",
      "47 2015-12-01   185.802336\n"
     ]
    }
   ],
   "source": [
    "ipim_enero_2012 = ipim_base_1993_dec_2015[ipim_base_1993_dec_2015['periodo']\n",
    "                                          == pd.to_datetime('2012-01-01')].iloc[0]['indice_ipim']\n",
    "\n",
    "\n",
    "def cambio_de_base_enero_2012(row):\n",
    "    return (row['indice_ipim'] / ipim_enero_2012) * 100\n",
    "\n",
    "\n",
    "ipim_base_2012_dec_2015 = ipim_base_1993_dec_2015.copy()\n",
    "ipim_base_2012_dec_2015['indice_ipim'] = ipim_base_2012_dec_2015.apply(\n",
    "    cambio_de_base_enero_2012, axis=1)\n",
    "\n",
    "print(\"Head:\")\n",
    "print(ipim_base_2012_dec_2015.head())\n",
    "print(\"\\nTail:\")\n",
    "print(ipim_base_2012_dec_2015.tail())"
   ]
  },
  {
   "cell_type": "markdown",
   "metadata": {},
   "source": [
    "## 2016 - 2019"
   ]
  },
  {
   "cell_type": "markdown",
   "metadata": {},
   "source": [
    "### Preparación de los datos"
   ]
  },
  {
   "cell_type": "code",
   "execution_count": 123,
   "metadata": {},
   "outputs": [
    {
     "name": "stdout",
     "output_type": "stream",
     "text": [
      "      periodo  indice_ipim\n",
      "44 2019-08-01   372.785790\n",
      "45 2019-09-01   388.320934\n",
      "46 2019-10-01   402.345280\n",
      "47 2019-11-01   424.027901\n",
      "48 2019-12-01   439.656651\n"
     ]
    }
   ],
   "source": [
    "import pandas as pd\n",
    "\n",
    "file_path = 'data/ipim/indice_ipim_2016_2024.csv'\n",
    "ipim_base_2015_sep_2024 = pd.read_csv(file_path, delimiter=';', decimal=',')\n",
    "\n",
    "# Ajustar el formato de las columnas\n",
    "ipim_base_2015_sep_2024 = ipim_base_2015_sep_2024.rename(\n",
    "    columns={'indice': 'indice_ipim'})\n",
    "\n",
    "ipim_base_2015_sep_2024['periodo'] = pd.to_datetime(\n",
    "    ipim_base_2015_sep_2024['periodo'], format='%Y-%m-%d')\n",
    "\n",
    "# Filtrar los datos de nivel general\n",
    "ipim_base_2015_sep_2024 = ipim_base_2015_sep_2024[\n",
    "    ipim_base_2015_sep_2024['nivel_general_aperturas'] == 'ng_nivel_general']\n",
    "\n",
    "# Filtrar los datos hasta diciembre de 2019\n",
    "ipim_base_2015_dec_2019 = ipim_base_2015_sep_2024[ipim_base_2015_sep_2024['periodo']\n",
    "                                                  <= pd.to_datetime('2019-12-01')]\n",
    "\n",
    "# Eliminar la columna de nivel general\n",
    "ipim_base_2015_dec_2019 = ipim_base_2015_dec_2019.drop(\n",
    "    columns=['nivel_general_aperturas'])\n",
    "\n",
    "print(ipim_base_2015_dec_2019.tail())"
   ]
  },
  {
   "cell_type": "markdown",
   "metadata": {},
   "source": [
    "### Cambio de base"
   ]
  },
  {
   "cell_type": "markdown",
   "metadata": {},
   "source": [
    "Para pasar los datos de 2016 a 2019 con base de diciembre de 2015 a enero 2012, utilizamos la regla de tres simple:\n",
    "\n",
    "$$ \\text{Factor de empalme} = \\frac{\\text{Dato de IPIM diciembre 2015 base 2012}}{\\text{Dato de IPIM diciembre 2015 base 2015}}$$ \n",
    "\n",
    "$$ \\text{Dato de 2016 a 2019 base 2012 } = \\text{Dato de IPIM base 2015} * \\text{factor de empalme} $$"
   ]
  },
  {
   "cell_type": "code",
   "execution_count": 132,
   "metadata": {},
   "outputs": [
    {
     "name": "stdout",
     "output_type": "stream",
     "text": [
      "Head:\n",
      "     periodo  indice_ipim\n",
      "0 2015-12-01   185.802336\n",
      "1 2016-01-01   202.129120\n",
      "2 2016-02-01   212.132170\n",
      "3 2016-03-01   217.389937\n",
      "4 2016-04-01   220.756542\n",
      "\n",
      "Tail:\n",
      "      periodo  indice_ipim\n",
      "44 2019-08-01   692.644707\n",
      "45 2019-09-01   721.509366\n",
      "46 2019-10-01   747.566929\n",
      "47 2019-11-01   787.853745\n",
      "48 2019-12-01   816.892328\n"
     ]
    }
   ],
   "source": [
    "# Calcular el factor de empalme\n",
    "ipim_diciembre_2015_base_2012 = ipim_base_2012_dec_2015[ipim_base_2012_dec_2015['periodo']\n",
    "                                                        == pd.to_datetime('2015-12-01')].iloc[0]['indice_ipim']\n",
    "\n",
    "ipim_diciembre_2015_base_2015 = ipim_base_2015_dec_2019[ipim_base_2015_dec_2019['periodo']\n",
    "                                                        == pd.to_datetime('2015-12-01')].iloc[0]['indice_ipim']\n",
    "\n",
    "factor_de_empalme = ipim_diciembre_2015_base_2012 / ipim_diciembre_2015_base_2015\n",
    "\n",
    "\n",
    "def cambio_de_base_2015_a_2012(row):\n",
    "    return row['indice_ipim'] * factor_de_empalme\n",
    "\n",
    "\n",
    "# Aplicar el cambio de base\n",
    "ipim_base_2012_dec_2015_dec_2019 = ipim_base_2015_dec_2019.copy()\n",
    "ipim_base_2012_dec_2015_dec_2019['indice_ipim'] = ipim_base_2015_dec_2019.apply(\n",
    "    cambio_de_base_2015_a_2012, axis=1)\n",
    "\n",
    "print(\"Head:\")\n",
    "print(ipim_base_2012_dec_2015_dec_2019.head())\n",
    "print(\"\\nTail:\")\n",
    "print(ipim_base_2012_dec_2015_dec_2019.tail())"
   ]
  },
  {
   "cell_type": "markdown",
   "metadata": {},
   "source": [
    "## 2012 - 2019"
   ]
  },
  {
   "cell_type": "markdown",
   "metadata": {},
   "source": [
    "### Concatenación y guardado de los dos períodos"
   ]
  },
  {
   "cell_type": "code",
   "execution_count": 133,
   "metadata": {},
   "outputs": [
    {
     "name": "stdout",
     "output_type": "stream",
     "text": [
      "Head:\n",
      "     periodo  indice_ipim\n",
      "0 2012-01-01   100.000000\n",
      "1 2012-02-01   100.987732\n",
      "2 2012-03-01   102.181241\n",
      "3 2012-04-01   103.337514\n",
      "4 2012-05-01   104.391879\n",
      "\n",
      "Tail:\n",
      "      periodo  indice_ipim\n",
      "44 2019-08-01   692.644707\n",
      "45 2019-09-01   721.509366\n",
      "46 2019-10-01   747.566929\n",
      "47 2019-11-01   787.853745\n",
      "48 2019-12-01   816.892328\n"
     ]
    }
   ],
   "source": [
    "ipim_base_2012_ene_2012_dec_2019 = pd.concat(\n",
    "    [ipim_base_2012_dec_2015, ipim_base_2012_dec_2015_dec_2019], ignore_index=False)\n",
    "\n",
    "# Eliminar duplicado de diciembre de 2015\n",
    "ipim_base_2012_ene_2012_dec_2019.drop_duplicates(\n",
    "    subset='periodo', inplace=True)\n",
    "\n",
    "print(\"Head:\")\n",
    "print(ipim_base_2012_ene_2012_dec_2019.head())\n",
    "print(\"\\nTail:\")\n",
    "print(ipim_base_2012_ene_2012_dec_2019.tail())\n",
    "\n",
    "# Guardar los datos\n",
    "ipim_base_2012_ene_2012_dec_2019.to_csv(\n",
    "    'data/ipim/ipim_mensual_2012-2019_base_ene_2012.csv', index=False)"
   ]
  },
  {
   "cell_type": "markdown",
   "metadata": {},
   "source": [
    "### IPIM anualizado"
   ]
  },
  {
   "cell_type": "markdown",
   "metadata": {},
   "source": [
    "Cómo decidímos trabajar la base de datos de presupuesto agrupada anualmente, calculamos el IPIM promediado anualmente para aplicarlo en a los valores de presupuesto."
   ]
  },
  {
   "cell_type": "code",
   "execution_count": 134,
   "metadata": {},
   "outputs": [
    {
     "name": "stdout",
     "output_type": "stream",
     "text": [
      "  periodo  indice_ipim\n",
      "0    2012   105.998249\n",
      "1    2013   120.444969\n",
      "2    2014   153.000921\n",
      "3    2015   174.864122\n",
      "4    2016   232.412607\n",
      "5    2017   273.601249\n",
      "6    2018   409.455699\n",
      "7    2019   651.589741\n"
     ]
    }
   ],
   "source": [
    "ipim_mensual = pd.read_csv(\n",
    "    'data/ipim/ipim_mensual_2012-2019_base_ene_2012.csv')\n",
    "ipim_mensual['periodo'] = pd.to_datetime(ipim_mensual['periodo'])\n",
    "\n",
    "ipim_anual = ipim_mensual.groupby(\n",
    "    pd.Grouper(key='periodo', freq='YE')).mean().reset_index()\n",
    "\n",
    "ipim_anual['periodo'] = ipim_anual['periodo'].dt.to_period('Y')\n",
    "\n",
    "ipim_anual.to_csv('data/ipim/ipim_anual_2012-2019_base_ene_2012.csv', index=False)\n",
    "\n",
    "print(ipim_anual)"
   ]
  }
 ],
 "metadata": {
  "kernelspec": {
   "display_name": ".venv",
   "language": "python",
   "name": "python3"
  },
  "language_info": {
   "codemirror_mode": {
    "name": "ipython",
    "version": 3
   },
   "file_extension": ".py",
   "mimetype": "text/x-python",
   "name": "python",
   "nbconvert_exporter": "python",
   "pygments_lexer": "ipython3",
   "version": "3.12.7"
  }
 },
 "nbformat": 4,
 "nbformat_minor": 2
}
