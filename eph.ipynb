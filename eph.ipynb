{
 "cells": [
  {
   "cell_type": "markdown",
   "metadata": {},
   "source": [
    "# interpolar sexo"
   ]
  },
  {
   "cell_type": "code",
   "execution_count": 22,
   "metadata": {},
   "outputs": [],
   "source": [
    "import pandas as pd\n",
    "from scipy.interpolate import interp1d\n",
    "import numpy as np\n",
    "\n",
    "# cargar archivos\n",
    "file_path = \"data/eph/Sexo_concatenado.csv\"\n",
    "sexo = pd.read_csv(file_path)\n",
    "sexo[\"Año\"] = pd.to_datetime(sexo[\"Año\"], format=\"%Y\")\n",
    "\n",
    "varon = sexo[sexo[\"Sexo\"] == \"Varón\"]\n",
    "mujer = sexo[sexo[\"Sexo\"] == \"Mujer\"]\n",
    "varon_2015 = pd.DataFrame({\"Año\": [pd.to_datetime('2015')], \"Sexo\": [\"Varón\"]})\n",
    "mujer_2015 = pd.DataFrame({\"Año\": [pd.to_datetime('2015')], \"Sexo\": [\"Mujer\"]})\n",
    "\n",
    "varon = pd.concat([varon, varon_2015])\n",
    "mujer = pd.concat([mujer, mujer_2015])\n",
    "\n",
    "varon = varon.sort_values(by=\"Año\").reset_index(drop=True)\n",
    "mujer = mujer.sort_values(by=\"Año\").reset_index(drop=True)\n",
    "\n",
    "columnas = sexo.columns[2:]\n",
    "\n",
    "for columna in columnas:\n",
    "    valid_varon = varon.dropna(subset=[columna])\n",
    "    valid_mujer = mujer.dropna(subset=[columna])\n",
    "    \n",
    "    if len(valid_varon) > 1 and len(valid_mujer) > 1:\n",
    "        varon_interp = interp1d(valid_varon[\"Año\"].astype(np.int64), valid_varon[columna], kind='linear', fill_value=\"extrapolate\")\n",
    "        mujer_interp = interp1d(valid_mujer[\"Año\"].astype(np.int64), valid_mujer[columna], kind='linear', fill_value=\"extrapolate\")\n",
    "\n",
    "        varon[columna] = varon_interp(varon[\"Año\"].astype(np.int64))\n",
    "        mujer[columna] = mujer_interp(mujer[\"Año\"].astype(np.int64))\n",
    "    \n",
    "sexo = pd.concat([varon, mujer]).sort_values(by=[\"Sexo\",\"Año\"]).reset_index(drop=True)\n",
    "\n",
    "sexo.to_csv(\"data/eph/Sexo_concatenado_interp.csv\", index=False)"
   ]
  },
  {
   "cell_type": "markdown",
   "metadata": {},
   "source": [
    "# Interpolar región"
   ]
  },
  {
   "cell_type": "code",
   "execution_count": 31,
   "metadata": {},
   "outputs": [],
   "source": [
    "import pandas as pd\n",
    "from scipy.interpolate import interp1d\n",
    "import numpy as np\n",
    "\n",
    "# cargar archivos\n",
    "file_path = \"data/eph/Region_concatenado.csv\"\n",
    "reg = pd.read_csv(file_path)\n",
    "\n",
    "DFs = {}\n",
    "regiones = reg[\"REGION\"].unique()\n",
    "for region in regiones:\n",
    "    region_df = reg[reg[\"REGION\"] == region].copy()\n",
    "    region_df[\"Año\"] = pd.to_datetime(region_df[\"Año\"], format=\"%Y\")\n",
    "    region_2015 = pd.DataFrame({\"Año\": [pd.to_datetime('2015', format=\"%Y\")], \"REGION\": [region]})\n",
    "    region_df = pd.concat([region_df, region_2015])\n",
    "    region_df = region_df.sort_values(by=\"Año\").reset_index(drop=True)\n",
    "    DFs[region] = region_df\n",
    "    \n",
    "columnas = reg.columns[2:]\n",
    "\n",
    "for columna in columnas:\n",
    "    for region in regiones:\n",
    "        valid = DFs[region].dropna(subset=[columna])\n",
    "        if len(valid) > 1:\n",
    "            interp = interp1d(valid[\"Año\"].astype(np.int64), valid[columna], kind='linear', fill_value=\"extrapolate\")\n",
    "            DFs[region][columna] = interp(DFs[region][\"Año\"].astype(np.int64))\n",
    "            \n",
    "reg_interp = pd.concat(DFs.values()).sort_values(by=[\"REGION\",\"Año\"]).reset_index(drop=True)\n",
    "reg_interp.to_csv(\"data/eph/Region_concatenado_interp.csv\", index=False)"
   ]
  },
  {
   "cell_type": "code",
   "execution_count": null,
   "metadata": {},
   "outputs": [],
   "source": []
  }
 ],
 "metadata": {
  "kernelspec": {
   "display_name": ".venv",
   "language": "python",
   "name": "python3"
  },
  "language_info": {
   "codemirror_mode": {
    "name": "ipython",
    "version": 3
   },
   "file_extension": ".py",
   "mimetype": "text/x-python",
   "name": "python",
   "nbconvert_exporter": "python",
   "pygments_lexer": "ipython3",
   "version": "3.12.3"
  }
 },
 "nbformat": 4,
 "nbformat_minor": 2
}
