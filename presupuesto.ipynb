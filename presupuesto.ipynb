{
 "cells": [
  {
   "cell_type": "markdown",
   "metadata": {},
   "source": [
    "# Descarga y preparación del entorno"
   ]
  },
  {
   "cell_type": "markdown",
   "metadata": {},
   "source": [
    "## Instalación de dependencias"
   ]
  },
  {
   "cell_type": "code",
   "execution_count": null,
   "metadata": {},
   "outputs": [],
   "source": [
    "! pip install -r requirements.txt   "
   ]
  },
  {
   "cell_type": "markdown",
   "metadata": {},
   "source": [
    "## Descomprimir datos\n",
    "En el repositorio se incluye un archivo comprimido con los datasets en formato `.csv` de los créditos presupuestarios utilizados en el trabajo.\n",
    "\n",
    "Estos fueron descargados el 5/10/2024 de la página de [presupuesto abierto](https://www.presupuestoabierto.gob.ar/sici/datos-abiertos) del gobierno nacional argentino. Los archivos utilizados se encuentran en la página como \"Presupuesto de gastos y su ejecución detallada - agrupación anual\".\n",
    "\n",
    "También se incluye un script de python para descargar todos los datasets de este tipo disponibles al momento (desde 1995 hasta 2024). Se puede encontrar en `utils/descarga-presupuestos.py`."
   ]
  },
  {
   "cell_type": "code",
   "execution_count": 2,
   "metadata": {},
   "outputs": [
    {
     "name": "stdout",
     "output_type": "stream",
     "text": [
      "Descomprimido credito-anual.zip\n"
     ]
    }
   ],
   "source": [
    "import zipfile\n",
    "import os\n",
    "\n",
    "# Cambiar al directorio \"credito-anual\"\n",
    "os.chdir('credito-anual')\n",
    "\n",
    "# Descomprimir el archivo \"credito-anual.zip\"\n",
    "with zipfile.ZipFile('credito-anual.zip', 'r') as zip_ref:\n",
    "    zip_ref.extractall()\n",
    "    \n",
    "os.chdir('..')\n",
    "\n",
    "print('Descomprimido credito-anual.zip')"
   ]
  },
  {
   "cell_type": "markdown",
   "metadata": {},
   "source": [
    "# Manejo de los datos con Pandas"
   ]
  },
  {
   "cell_type": "markdown",
   "metadata": {},
   "source": [
    "## Carga de .csv a DataFrames de Pandas"
   ]
  },
  {
   "cell_type": "code",
   "execution_count": 77,
   "metadata": {},
   "outputs": [],
   "source": [
    "import pandas as pd\n",
    "DFs = {}\n",
    "for year in range(2012,2020):\n",
    "  df = pd.read_csv(f'credito-anual/credito-anual-{year}.csv', decimal=',')\n",
    "  df.name = f'{year}'\n",
    "  DFs[year] = df"
   ]
  },
  {
   "cell_type": "markdown",
   "metadata": {},
   "source": [
    "## Funciones para el procesamiento de datos"
   ]
  },
  {
   "cell_type": "code",
   "execution_count": 78,
   "metadata": {},
   "outputs": [],
   "source": [
    "def generar_dataframe_periodo(DFs, start_year, end_year):\n",
    "        df = pd.concat([DFs[year] for year in range(start_year, end_year + 1)], ignore_index=True)\n",
    "        df.name = f'{start_year}-{end_year}'\n",
    "        return df\n",
    "\n",
    "def calcular_total_pagado(df):\n",
    "        return df['credito_pagado'].sum()\n",
    "\n",
    "def calcular_total_pagado_por_funcion(df, funcion):\n",
    "        return df[df['funcion_desc'].str.contains(funcion, na=False)]['credito_pagado'].sum()\n",
    "\n",
    "def imprimir_resultados(df, total_pagado, total_pagado_trabajo, porcentaje):\n",
    "        print(f'{df.name}:')\n",
    "        print(f'    Total pagado: {total_pagado:,.2f}')\n",
    "        print(f'    Total pagado con función \\'Trabajo\\': {total_pagado_trabajo:,.2f}')\n",
    "        print(f'    Porcentaje pagado con función \\'Trabajo\\': {porcentaje:.2%}')"
   ]
  },
  {
   "cell_type": "markdown",
   "metadata": {},
   "source": [
    "## Calculo de inversión con función 'Trabajo' por períodos estudiados"
   ]
  },
  {
   "cell_type": "code",
   "execution_count": 79,
   "metadata": {},
   "outputs": [
    {
     "name": "stdout",
     "output_type": "stream",
     "text": [
      "2012-2015:\n",
      "    Total pagado: 3,673,561.01\n",
      "    Total pagado con función 'Trabajo': 17,070.08\n",
      "    Porcentaje pagado con función 'Trabajo': 0.46%\n",
      "2016-2019:\n",
      "    Total pagado: 12,317,476.66\n",
      "    Total pagado con función 'Trabajo': 33,300.60\n",
      "    Porcentaje pagado con función 'Trabajo': 0.27%\n",
      "2012-2019:\n",
      "    Total pagado: 15,991,037.68\n",
      "    Total pagado con función 'Trabajo': 50,370.68\n",
      "    Porcentaje pagado con función 'Trabajo': 0.31%\n"
     ]
    }
   ],
   "source": [
    "periods = {}\n",
    "porcentaje_por_periodo = {}\n",
    "   \n",
    "for period in ['2012-2015', '2016-2019', '2012-2019']:\n",
    "        start_year, end_year = period.split('-')\n",
    "        periods[period] = generar_dataframe_periodo(DFs, int(start_year), int(end_year))\n",
    "        \n",
    "        total_pagado = calcular_total_pagado(periods[period])\n",
    "        total_pagado_trabajo = calcular_total_pagado_por_funcion(periods[period], 'Trabajo')\n",
    "        porcentaje_por_periodo[period] = total_pagado_trabajo / total_pagado\n",
    "        \n",
    "        imprimir_resultados(periods[period], total_pagado , total_pagado_trabajo, porcentaje_por_periodo[period])"
   ]
  },
  {
   "cell_type": "markdown",
   "metadata": {},
   "source": [
    "## Calculo de inversión con funcion 'Trabajo' por año"
   ]
  },
  {
   "cell_type": "code",
   "execution_count": 80,
   "metadata": {},
   "outputs": [
    {
     "name": "stdout",
     "output_type": "stream",
     "text": [
      "2012:\n",
      "    Total pagado: 531,870.32\n",
      "    Total pagado con función 'Trabajo': 3,106.80\n",
      "    Porcentaje pagado con función 'Trabajo': 0.58%\n",
      "2013:\n",
      "    Total pagado: 701,981.01\n",
      "    Total pagado con función 'Trabajo': 3,507.28\n",
      "    Porcentaje pagado con función 'Trabajo': 0.50%\n",
      "2014:\n",
      "    Total pagado: 1,081,679.25\n",
      "    Total pagado con función 'Trabajo': 4,211.20\n",
      "    Porcentaje pagado con función 'Trabajo': 0.39%\n",
      "2015:\n",
      "    Total pagado: 1,358,030.44\n",
      "    Total pagado con función 'Trabajo': 6,244.80\n",
      "    Porcentaje pagado con función 'Trabajo': 0.46%\n",
      "2016:\n",
      "    Total pagado: 2,054,865.50\n",
      "    Total pagado con función 'Trabajo': 6,358.43\n",
      "    Porcentaje pagado con función 'Trabajo': 0.31%\n",
      "2017:\n",
      "    Total pagado: 2,482,120.55\n",
      "    Total pagado con función 'Trabajo': 9,735.44\n",
      "    Porcentaje pagado con función 'Trabajo': 0.39%\n",
      "2018:\n",
      "    Total pagado: 3,193,254.13\n",
      "    Total pagado con función 'Trabajo': 7,207.43\n",
      "    Porcentaje pagado con función 'Trabajo': 0.23%\n",
      "2019:\n",
      "    Total pagado: 4,587,236.48\n",
      "    Total pagado con función 'Trabajo': 9,999.30\n",
      "    Porcentaje pagado con función 'Trabajo': 0.22%\n"
     ]
    }
   ],
   "source": [
    "porcentaje_por_año = {}\n",
    "\n",
    "for year in range(2012,2020):\n",
    "    total_pagado = calcular_total_pagado(DFs[year])\n",
    "    total_trabajo = calcular_total_pagado_por_funcion(DFs[year], 'Trabajo')\n",
    "    porcentaje_por_año[year] = total_trabajo/total_pagado\n",
    "    \n",
    "    imprimir_resultados(DFs[year], total_pagado, total_trabajo, porcentaje_por_año[year])"
   ]
  }
 ],
 "metadata": {
  "kernelspec": {
   "display_name": "venv",
   "language": "python",
   "name": "python3"
  },
  "language_info": {
   "codemirror_mode": {
    "name": "ipython",
    "version": 3
   },
   "file_extension": ".py",
   "mimetype": "text/x-python",
   "name": "python",
   "nbconvert_exporter": "python",
   "pygments_lexer": "ipython3",
   "version": "3.12.3"
  }
 },
 "nbformat": 4,
 "nbformat_minor": 2
}
