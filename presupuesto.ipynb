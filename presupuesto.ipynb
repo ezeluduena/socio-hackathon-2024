{
 "cells": [
  {
   "cell_type": "markdown",
   "metadata": {},
   "source": [
    "# Descarga y preparación del entorno"
   ]
  },
  {
   "cell_type": "markdown",
   "metadata": {},
   "source": [
    "## Instalación de dependencias"
   ]
  },
  {
   "cell_type": "code",
   "execution_count": null,
   "metadata": {},
   "outputs": [],
   "source": [
    "! pip install -r requirements.txt   "
   ]
  },
  {
   "cell_type": "markdown",
   "metadata": {},
   "source": [
    "## Descomprimir datos\n",
    "En el repositorio se incluye un archivo comprimido con los datasets en formato `.csv` de los créditos presupuestarios utilizados en el trabajo.\n",
    "\n",
    "Estos fueron descargados el 5/10/2024 de la página de [presupuesto abierto](https://www.presupuestoabierto.gob.ar/sici/datos-abiertos) del gobierno nacional argentino. Los archivos utilizados se encuentran en la página como \"Presupuesto de gastos y su ejecución detallada - agrupación anual\".\n",
    "\n",
    "También se incluye un script de python para descargar todos los datasets de este tipo disponibles al momento (desde 1995 hasta 2024). Se puede encontrar en `utils/descarga-presupuestos.py`."
   ]
  },
  {
   "cell_type": "code",
   "execution_count": null,
   "metadata": {},
   "outputs": [],
   "source": [
    "import zipfile\n",
    "import os\n",
    "\n",
    "# Cambiar al directorio \"credito-anual\"\n",
    "os.chdir('data/presupuesto')\n",
    "\n",
    "# Descomprimir el archivo \"credito-anual.zip\"\n",
    "with zipfile.ZipFile('credito-anual.zip', 'r') as zip_ref:\n",
    "    zip_ref.extractall()\n",
    "\n",
    "os.chdir('../../')\n",
    "\n",
    "print('Descomprimido credito-anual.zip')"
   ]
  },
  {
   "cell_type": "markdown",
   "metadata": {},
   "source": [
    "# Manejo de los datos con Pandas"
   ]
  },
  {
   "cell_type": "markdown",
   "metadata": {},
   "source": [
    "## Carga de .csv a DataFrames de Pandas"
   ]
  },
  {
   "cell_type": "code",
   "execution_count": 24,
   "metadata": {},
   "outputs": [],
   "source": [
    "import pandas as pd\n",
    "DFs = {}\n",
    "for año in range(2012, 2020):\n",
    "    df = pd.read_csv(f'data/presupuesto/credito-anual-{año}.csv', decimal=',')\n",
    "    df.nombre = f'{año}'\n",
    "    DFs[año] = df"
   ]
  },
  {
   "cell_type": "markdown",
   "metadata": {},
   "source": [
    "## Deflactación de los valores    "
   ]
  },
  {
   "cell_type": "markdown",
   "metadata": {},
   "source": []
  },
  {
   "cell_type": "code",
   "execution_count": 25,
   "metadata": {},
   "outputs": [],
   "source": [
    "ipim_anual = pd.read_csv('data/ipim/ipim_anual_2012-2019_base_ene_2012.csv')\n",
    "indice_base = 100\n",
    "\n",
    "for año in range(2012, 2020):\n",
    "    indice = ipim_anual[ipim_anual['periodo'] == año].iloc[0]['indice_ipim']\n",
    "\n",
    "    DFs[año]['credito_pagado'] = (\n",
    "        DFs[año]['credito_pagado'] / indice) * indice_base"
   ]
  },
  {
   "cell_type": "markdown",
   "metadata": {},
   "source": [
    "## Funciones para el procesamiento de datos"
   ]
  },
  {
   "cell_type": "code",
   "execution_count": 26,
   "metadata": {},
   "outputs": [],
   "source": [
    "def generar_dataframe_periodo(DFs, año_comienzo, año_fin):\n",
    "    df = pd.concat([DFs[año] for año in range(\n",
    "        año_comienzo, año_fin + 1)], ignore_index=True)\n",
    "    df.nombre = f'{año_comienzo}-{año_fin}'\n",
    "    return df\n",
    "\n",
    "\n",
    "def calcular_total_pagado(df):\n",
    "    return df['credito_pagado'].sum()\n",
    "\n",
    "\n",
    "def calcular_total_pagado_por_funcion(df, funcion):\n",
    "    return df[df['funcion_desc'].str.contains(funcion, na=False)]['credito_pagado'].sum()\n",
    "\n",
    "\n",
    "def imprimir_resultados(df, total_pagado, total_pagado_trabajo, porcentaje):\n",
    "    print(f'{df.nombre}:')\n",
    "    print(f'    Total pagado: {total_pagado:,.2f}')\n",
    "    print(f'    Total pagado con función \\'Trabajo\\': {\n",
    "          total_pagado_trabajo:,.2f}')\n",
    "    print(f'    Porcentaje pagado con función \\'Trabajo\\': {porcentaje}%')"
   ]
  },
  {
   "cell_type": "markdown",
   "metadata": {},
   "source": [
    "## Calculo de inversión con función 'Trabajo' por períodos estudiados"
   ]
  },
  {
   "cell_type": "code",
   "execution_count": 40,
   "metadata": {},
   "outputs": [
    {
     "name": "stdout",
     "output_type": "stream",
     "text": [
      "2012-2015:\n",
      "    Total pagado: 2,568,191.80\n",
      "    Total pagado con función 'Trabajo': 12,166.56\n",
      "    Porcentaje pagado con función 'Trabajo': 0.47%\n",
      "    Promedio anual: 3,041.64\n",
      "\n",
      "2016-2019:\n",
      "    Total pagado: 3,275,233.78\n",
      "    Total pagado con función 'Trabajo': 9,588.94\n",
      "    Porcentaje pagado con función 'Trabajo': 0.29%\n",
      "    Promedio anual: 2,397.24\n",
      "\n",
      "2012-2019:\n",
      "    Total pagado: 5,843,425.59\n",
      "    Total pagado con función 'Trabajo': 21,755.50\n",
      "    Porcentaje pagado con función 'Trabajo': 0.37%\n",
      "    Promedio anual: 2,719.44\n",
      "\n"
     ]
    }
   ],
   "source": [
    "periodos = {}\n",
    "porcentaje_por_periodo = {}\n",
    "total_pagado_por_periodo = {}\n",
    "total_pagado_trabajo_por_periodo = {}\n",
    "promedio_por_periodo = {}\n",
    "\n",
    "for periodo in ['2012-2015', '2016-2019', '2012-2019']:\n",
    "    start_year, end_year = periodo.split('-')\n",
    "    periodos[periodo] = generar_dataframe_periodo(\n",
    "        DFs, int(start_year), int(end_year))\n",
    "\n",
    "    total_pagado_por_periodo[periodo] = calcular_total_pagado(\n",
    "        periodos[periodo])\n",
    "    total_pagado_trabajo_por_periodo[periodo] = calcular_total_pagado_por_funcion(\n",
    "        periodos[periodo], 'Trabajo')\n",
    "    porcentaje_por_periodo[periodo] = round(\n",
    "        (total_pagado_trabajo_por_periodo[periodo]/total_pagado_por_periodo[periodo])*100, 2)\n",
    "    promedio_por_periodo[periodo] = total_pagado_trabajo_por_periodo[periodo] / \\\n",
    "        (int(end_year) - int(start_year) + 1)\n",
    "\n",
    "    imprimir_resultados(periodos[periodo], total_pagado_por_periodo[periodo],\n",
    "                        total_pagado_trabajo_por_periodo[periodo], porcentaje_por_periodo[periodo])\n",
    "    print(f'    Promedio anual: {promedio_por_periodo[periodo]:,.2f}\\n')"
   ]
  },
  {
   "cell_type": "markdown",
   "metadata": {},
   "source": [
    "## Calculo de inversión con funcion 'Trabajo' por año"
   ]
  },
  {
   "cell_type": "code",
   "execution_count": 30,
   "metadata": {},
   "outputs": [
    {
     "name": "stdout",
     "output_type": "stream",
     "text": [
      "2012:\n",
      "    Total pagado: 501,772.74\n",
      "    Total pagado con función 'Trabajo': 2,930.99\n",
      "    Porcentaje pagado con función 'Trabajo': 0.58%\n",
      "2013:\n",
      "    Total pagado: 582,823.02\n",
      "    Total pagado con función 'Trabajo': 2,911.94\n",
      "    Porcentaje pagado con función 'Trabajo': 0.5%\n",
      "2014:\n",
      "    Total pagado: 706,975.65\n",
      "    Total pagado con función 'Trabajo': 2,752.40\n",
      "    Porcentaje pagado con función 'Trabajo': 0.39%\n",
      "2015:\n",
      "    Total pagado: 776,620.40\n",
      "    Total pagado con función 'Trabajo': 3,571.23\n",
      "    Porcentaje pagado con función 'Trabajo': 0.46%\n",
      "2016:\n",
      "    Total pagado: 884,145.45\n",
      "    Total pagado con función 'Trabajo': 2,735.84\n",
      "    Porcentaje pagado con función 'Trabajo': 0.31%\n",
      "2017:\n",
      "    Total pagado: 907,203.66\n",
      "    Total pagado con función 'Trabajo': 3,558.26\n",
      "    Porcentaje pagado con función 'Trabajo': 0.39%\n",
      "2018:\n",
      "    Total pagado: 779,877.81\n",
      "    Total pagado con función 'Trabajo': 1,760.25\n",
      "    Porcentaje pagado con función 'Trabajo': 0.23%\n",
      "2019:\n",
      "    Total pagado: 704,006.86\n",
      "    Total pagado con función 'Trabajo': 1,534.60\n",
      "    Porcentaje pagado con función 'Trabajo': 0.22%\n"
     ]
    }
   ],
   "source": [
    "porcentaje_por_año = {}\n",
    "total_pagado_por_año = {}\n",
    "total_pagado_trabajo_por_año = {}\n",
    "\n",
    "for año in range(2012, 2020):\n",
    "    total_pagado_por_año[año] = calcular_total_pagado(DFs[año])\n",
    "    total_pagado_trabajo_por_año[año] = calcular_total_pagado_por_funcion(DFs[año], 'Trabajo')\n",
    "    porcentaje_por_año[año] = round((total_pagado_trabajo_por_año[año]/total_pagado_por_año[año])*100, 2)\n",
    "\n",
    "    imprimir_resultados(DFs[año], total_pagado_por_año[año],\n",
    "                        total_pagado_trabajo_por_año[año], porcentaje_por_año[año])\n",
    "\n",
    "\n",
    "# Calculo de promedios por período"
   ]
  },
  {
   "cell_type": "markdown",
   "metadata": {},
   "source": [
    "# Gráficos"
   ]
  },
  {
   "cell_type": "markdown",
   "metadata": {},
   "source": [
    "## Crear carpeta para guardar los gráficos"
   ]
  },
  {
   "cell_type": "code",
   "execution_count": 7,
   "metadata": {},
   "outputs": [],
   "source": [
    "import os\n",
    "os.makedirs('plots', exist_ok=True)\n",
    "os.makedirs('plots/presupuesto', exist_ok=True)"
   ]
  },
  {
   "cell_type": "markdown",
   "metadata": {},
   "source": [
    "## Gráfico de pagos con función 'Trabajo' por año"
   ]
  },
  {
   "cell_type": "code",
   "execution_count": 36,
   "metadata": {},
   "outputs": [
    {
     "ename": "IndentationError",
     "evalue": "expected an indented block after 'for' statement on line 9 (3632015421.py, line 12)",
     "output_type": "error",
     "traceback": [
      "\u001b[0;36m  Cell \u001b[0;32mIn[36], line 12\u001b[0;36m\u001b[0m\n\u001b[0;31m    sns.set_theme(style=\"whitegrid\")\u001b[0m\n\u001b[0m    ^\u001b[0m\n\u001b[0;31mIndentationError\u001b[0m\u001b[0;31m:\u001b[0m expected an indented block after 'for' statement on line 9\n"
     ]
    }
   ],
   "source": [
    "import matplotlib.pyplot as plt\n",
    "import seaborn as sns\n",
    "from matplotlib.ticker import FuncFormatter\n",
    "\n",
    "# Datos\n",
    "años = list(total_pagado_trabajo_por_año.keys())\n",
    "valores = list(total_pagado_trabajo_por_año.values())\n",
    "promedio_por_periodo = {}\n",
    "for año in range(2012, 2020):\n",
    "\n",
    "# Configuración de Seaborn\n",
    "sns.set_theme(style=\"whitegrid\")\n",
    "\n",
    "# Crear la figura y el eje\n",
    "plt.figure(figsize=(10, 6))\n",
    "\n",
    "# Crear el gráfico de barras\n",
    "palette = ['#4aa9d8', '#5dbdf0', '#6bcff2', '#71c8f2', '#86d4f4', '#7acff3', '#9bdbf5', '#a2ddf5']\n",
    "ax = sns.barplot(x=años, y=valores, hue=años , legend=False, palette=palette)\n",
    "\n",
    "# Configuración de etiquetas y título\n",
    "ax.set_xlabel('Año')\n",
    "ax.set_ylabel('Monto pagado en miles de millones de pesos de enero 2012')\n",
    "ax.set_xticks(range(len(años)))\n",
    "ax.set_xticklabels(años, rotation=45)\n",
    "\n",
    "# # Líneas punteadas para los períodos\n",
    "# colores = ['#07a1f2', '#facd05', '#2c2f30']\n",
    "# for i in range(len(periodos)):\n",
    "#     plt.axhline(porcentajes_periodos[i], color=colores[i], linestyle='--',\n",
    "#                 linewidth=1.5, label=f'Porcentaje {periodos[i]}', alpha=0.9)\n",
    "#     plt.text(len(años) - 1.1, porcentajes_periodos[i] + 0.008, f'{porcentajes_periodos[i]}%', fontsize=10, alpha=0.9)\n",
    "\n",
    "# Añadir leyenda\n",
    "plt.legend()\n",
    "\n",
    "# Guardar y mostrar el gráfico\n",
    "plt.savefig('plots/presupuesto/pagos_funcion_trabajo.png', bbox_inches='tight')\n",
    "plt.show()"
   ]
  },
  {
   "cell_type": "markdown",
   "metadata": {},
   "source": [
    "## Gráfico de porcentaje de pagos con función 'Trabajo' por año"
   ]
  },
  {
   "cell_type": "code",
   "execution_count": 31,
   "metadata": {},
   "outputs": [
    {
     "data": {
      "image/png": "[encoded data removed]",
      "text/plain": [
       "<Figure size 1000x600 with 1 Axes>"
      ]
     },
     "metadata": {},
     "output_type": "display_data"
    }
   ],
   "source": [
    "import matplotlib.pyplot as plt\n",
    "import seaborn as sns\n",
    "from matplotlib.ticker import FuncFormatter\n",
    "\n",
    "# Datos\n",
    "años = list(porcentaje_por_año.keys())\n",
    "porcentajes = list(porcentaje_por_año.values())\n",
    "periodos = list(porcentaje_por_periodo.keys())\n",
    "porcentajes_periodos = list(porcentaje_por_periodo.values())\n",
    "\n",
    "# Configuración de Seaborn\n",
    "sns.set_theme(style=\"whitegrid\")\n",
    "\n",
    "# Crear la figura y el eje\n",
    "plt.figure(figsize=(10, 6))\n",
    "\n",
    "# Crear el gráfico de barras\n",
    "palette = ['#4aa9d8', '#5dbdf0', '#6bcff2', '#71c8f2', '#86d4f4', '#7acff3', '#9bdbf5', '#a2ddf5']\n",
    "ax = sns.barplot(x=años, y=porcentajes, hue=años , legend=False, palette=palette)\n",
    "\n",
    "# Configuración de etiquetas y título\n",
    "ax.set_xlabel('Año')\n",
    "ax.set_title('Porcentaje de función \"Trabajo\" en el total de crédito pagado')\n",
    "ax.set_xticks(range(len(años)))\n",
    "ax.set_ylim(0, max(porcentajes) * 1.1)\n",
    "ax.set_xticklabels(años, rotation=45)\n",
    "\n",
    "# Formatear el eje y como porcentaje\n",
    "ax.yaxis.set_major_formatter(FuncFormatter(lambda x, _: f'{x:.1f}%'))\n",
    "ax.yaxis.set_tick_params(pad=0.05)\n",
    "\n",
    "# Etiquetas en las barras\n",
    "for p in ax.patches:\n",
    "    ax.annotate(f'{p.get_height():.2f}%', \n",
    "                (p.get_x() + p.get_width() / 2., p.get_height()), \n",
    "                ha='center', va='center', \n",
    "                xytext=(0, 5), \n",
    "                textcoords='offset points',\n",
    "                fontsize=10)\n",
    "\n",
    "# Líneas punteadas para los períodos\n",
    "colores = ['#07a1f2', '#facd05', '#2c2f30']\n",
    "for i in range(len(periodos)):\n",
    "    plt.axhline(porcentajes_periodos[i], color=colores[i], linestyle='--',\n",
    "                linewidth=1.5, label=f'Porcentaje {periodos[i]}', alpha=0.9)\n",
    "    plt.text(len(años) - 1.1, porcentajes_periodos[i] + 0.008, f'{porcentajes_periodos[i]}%', fontsize=10, alpha=0.9)\n",
    "\n",
    "# Añadir leyenda\n",
    "plt.legend()\n",
    "\n",
    "# Guardar y mostrar el gráfico\n",
    "plt.savefig('plots/presupuesto/pagos_funcion_trabajo.png', bbox_inches='tight')\n",
    "plt.show()"
   ]
  },
  {
   "cell_type": "markdown",
   "metadata": {},
   "source": [
    "### Gráfico de pagos con función trabajo por año "
   ]
  }
 ],
 "metadata": {
  "kernelspec": {
   "display_name": ".venv",
   "language": "python",
   "name": "python3"
  },
  "language_info": {
   "codemirror_mode": {
    "name": "ipython",
    "version": 3
   },
   "file_extension": ".py",
   "mimetype": "text/x-python",
   "name": "python",
   "nbconvert_exporter": "python",
   "pygments_lexer": "ipython3",
   "version": "3.12.3"
  }
 },
 "nbformat": 4,
 "nbformat_minor": 2
}
