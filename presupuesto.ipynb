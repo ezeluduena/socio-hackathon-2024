{
 "cells": [
  {
   "cell_type": "markdown",
   "metadata": {},
   "source": [
    "# Descarga y preparación del entorno"
   ]
  },
  {
   "cell_type": "markdown",
   "metadata": {},
   "source": [
    "## Instalación de dependencias"
   ]
  },
  {
   "cell_type": "code",
   "execution_count": null,
   "metadata": {},
   "outputs": [],
   "source": [
    "! pip install -r requirements.txt   "
   ]
  },
  {
   "cell_type": "markdown",
   "metadata": {},
   "source": [
    "## Descomprimir datos\n",
    "En el repositorio se incluye un archivo comprimido con los datasets en formato `.csv` de los créditos presupuestarios utilizados en el trabajo.\n",
    "\n",
    "Estos fueron descargados el 5/10/2024 de la página de [presupuesto abierto](https://www.presupuestoabierto.gob.ar/sici/datos-abiertos) del gobierno nacional argentino. Los archivos utilizados se encuentran en la página como \"Presupuesto de gastos y su ejecución detallada - agrupación anual\".\n",
    "\n",
    "También se incluye un script de python para descargar todos los datasets de este tipo disponibles al momento (desde 1995 hasta 2024). Se puede encontrar en `utils/descarga-presupuestos.py`."
   ]
  },
  {
   "cell_type": "code",
   "execution_count": 2,
   "metadata": {},
   "outputs": [
    {
     "name": "stdout",
     "output_type": "stream",
     "text": [
      "Descomprimido credito-anual.zip\n"
     ]
    }
   ],
   "source": [
    "import zipfile\n",
    "import os\n",
    "\n",
    "# Cambiar al directorio \"credito-anual\"\n",
    "os.chdir('credito-anual')\n",
    "\n",
    "# Descomprimir el archivo \"credito-anual.zip\"\n",
    "with zipfile.ZipFile('credito-anual.zip', 'r') as zip_ref:\n",
    "    zip_ref.extractall()\n",
    "    \n",
    "os.chdir('..')\n",
    "\n",
    "print('Descomprimido credito-anual.zip')"
   ]
  },
  {
   "cell_type": "markdown",
   "metadata": {},
   "source": [
    "# Manejo de los datos con pandas"
   ]
  },
  {
   "cell_type": "code",
   "execution_count": 1,
   "metadata": {},
   "outputs": [],
   "source": [
    "# Cargamos las bases a varios dataframes\n",
    "import pandas as pd\n",
    "DFs = {}\n",
    "for year in range(2012,2020):\n",
    "  df = pd.read_csv(f'credito-anual/credito-anual-{year}.csv', decimal=',')\n",
    "  DFs[year] = df\n",
    "  \n",
    "# Generar DataFrames para los periodos 2012-2015, 2016-2019 y uno para un periodo total 2012-2019\n",
    "df_2012_2015 = pd.concat([DFs[year] for year in range(2012, 2016)], ignore_index=True)\n",
    "df_2016_2019 = pd.concat([DFs[year] for year in range(2016, 2020)], ignore_index=True)\n",
    "df_total = pd.concat(DFs.values(), ignore_index=True)"
   ]
  },
  {
   "cell_type": "code",
   "execution_count": 6,
   "metadata": {},
   "outputs": [],
   "source": [
    "# Filtramos los registros que contienen la palabra \"Trabajo\" en la columna \"funcion_desc\"\n",
    "df_2012_2015_trabajo = df_2012_2015[df_2012_2015['funcion_desc'].str.contains('Trabajo', na=False)]\n",
    "df_2016_2019_trabajo = df_2016_2019[df_2016_2019['funcion_desc'].str.contains('Trabajo', na=False)]\n",
    "df_total_trabajo = df_total[df_total['funcion_desc'].str.contains('Trabajo', na=False)]"
   ]
  },
  {
   "cell_type": "markdown",
   "metadata": {},
   "source": [
    "## Calculo de inversión con funcion 'Trabajo' por períodos estudiados"
   ]
  },
  {
   "cell_type": "code",
   "execution_count": 15,
   "metadata": {},
   "outputs": [
    {
     "name": "stdout",
     "output_type": "stream",
     "text": [
      "2012-2015:\n",
      "    Total pagado con función trabajo: 17,070.08\n",
      "    Total de pagos: 3,673,561.01\n",
      "    Corresponde al 0.46% del total\n",
      "2016-2019:\n",
      "    El total pagado con función trabajo: 33,300.60\n",
      "    El total de pagos: 12,317,476.66\n",
      "    Corresponde al 0.27% del total\n",
      "2012-2019:\n",
      "   El total pagado con función trabajo: 50,370.68 \n",
      " El total de pagos fue de 15,991,037.68\n",
      "    Corresponde al 0.31% del total\n",
      "\n",
      "(En miles de millones de pesos)\n"
     ]
    }
   ],
   "source": [
    "trabajo_2012_2015= df_2012_2015_trabajo['credito_pagado'].sum()\n",
    "trabajo_2016_2019 = df_2016_2019_trabajo['credito_pagado'].sum()\n",
    "trabajo_total = df_total_trabajo['credito_pagado'].sum()\n",
    "\n",
    "total_2012_2015 = df_2012_2015['credito_pagado'].sum()\n",
    "total_2016_2019 = df_2016_2019['credito_pagado'].sum()\n",
    "total_total = df_total['credito_pagado'].sum()\n",
    "\n",
    "print('2012-2015:')\n",
    "print(f'    Total pagado con función trabajo: {trabajo_2012_2015:,.2f}\\n',\n",
    "        f'   Total de pagos: {total_2012_2015:,.2f}')\n",
    "print(f'    Corresponde al {trabajo_2012_2015/total_2012_2015:.2%} del total')\n",
    "\n",
    "print('2016-2019:')\n",
    "print(f'    El total pagado con función trabajo: {trabajo_2016_2019:,.2f}\\n',\n",
    "        f'   El total de pagos: {total_2016_2019:,.2f}')\n",
    "print(f'    Corresponde al {trabajo_2016_2019/total_2016_2019:.2%} del total')\n",
    "\n",
    "print('2012-2019:')\n",
    "print(f'   El total pagado con función trabajo: {trabajo_total:,.2f} \\n',\n",
    "        f'El total de pagos fue de {total_total:,.2f}')\n",
    "print(f'    Corresponde al {trabajo_total/total_total:.2%} del total')\n",
    "print('\\n(En miles de millones de pesos)')"
   ]
  },
  {
   "cell_type": "markdown",
   "metadata": {},
   "source": [
    "## Calculo de inversión con funcion 'Trabajo' por año"
   ]
  },
  {
   "cell_type": "code",
   "execution_count": 14,
   "metadata": {},
   "outputs": [
    {
     "name": "stdout",
     "output_type": "stream",
     "text": [
      "Porcentaje de función 'Trabajo' en todos los créditos pagados:\n",
      "2012: 0.58%\n",
      "2013: 0.50%\n",
      "2014: 0.39%\n",
      "2015: 0.46%\n",
      "2016: 0.31%\n",
      "2017: 0.39%\n",
      "2018: 0.23%\n",
      "2019: 0.22%\n"
     ]
    }
   ],
   "source": [
    "porcentaje_por_año = {}\n",
    "print(\"Porcentaje de función \\'Trabajo\\' en todos los créditos pagados:\")\n",
    "for year in range(2012,2020):\n",
    "    total_pagado = DFs[year]['credito_pagado'].sum()\n",
    "    total_trabajo = DFs[year][DFs[year]['funcion_desc'].str.contains('Trabajo', na=False)]['credito_pagado'].sum()\n",
    "    porcentaje_por_año[year] = total_trabajo/total_pagado\n",
    "    print(f\"{year}: {porcentaje_por_año[year]:.2%}\") "
   ]
  }
 ],
 "metadata": {
  "kernelspec": {
   "display_name": "venv",
   "language": "python",
   "name": "python3"
  },
  "language_info": {
   "codemirror_mode": {
    "name": "ipython",
    "version": 3
   },
   "file_extension": ".py",
   "mimetype": "text/x-python",
   "name": "python",
   "nbconvert_exporter": "python",
   "pygments_lexer": "ipython3",
   "version": "3.12.3"
  }
 },
 "nbformat": 4,
 "nbformat_minor": 2
}
